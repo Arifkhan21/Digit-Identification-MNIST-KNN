{
 "cells": [
  {
   "cell_type": "code",
   "execution_count": 1,
   "metadata": {},
   "outputs": [],
   "source": [
    "import numpy as np\n",
    "import matplotlib.pyplot as plt\n",
    "import pandas as pd\n"
   ]
  },
  {
   "cell_type": "code",
   "execution_count": 2,
   "metadata": {},
   "outputs": [
    {
     "name": "stdout",
     "output_type": "stream",
     "text": [
      "(42000, 785)\n"
     ]
    }
   ],
   "source": [
    "#Reading DAta from MNIST Dataset\n",
    "df = pd.read_csv('train.csv')\n",
    "data = df.values\n",
    "print(data.shape)"
   ]
  },
  {
   "cell_type": "code",
   "execution_count": 3,
   "metadata": {},
   "outputs": [],
   "source": [
    "##Saving image Data\n",
    "x = data[:,1:]\n",
    "#Saving Number Correspoding to the number\n",
    "y = data[:,0]\n",
    "\n",
    "\n",
    "\n"
   ]
  },
  {
   "cell_type": "code",
   "execution_count": 4,
   "metadata": {},
   "outputs": [],
   "source": [
    "##Function to visualize the image\n",
    "##Not Required\n",
    "\n",
    "def draw(x):\n",
    "    image=x.reshape((28,28))\n",
    "    plt.imshow(image,cmap='gray')"
   ]
  },
  {
   "cell_type": "code",
   "execution_count": 5,
   "metadata": {},
   "outputs": [
    {
     "name": "stdout",
     "output_type": "stream",
     "text": [
      "(33600, 784)\n",
      "(33600,)\n"
     ]
    }
   ],
   "source": [
    "#Giving 80% of Data for Training and Rest for Testing \n",
    "\n",
    "split = int(0.8 *x.shape[0])\n",
    "x_train = x[:split,:]\n",
    "y_train = y[:split]\n",
    "print(x_train.shape)\n",
    "print(y_train.shape)"
   ]
  },
  {
   "cell_type": "markdown",
   "metadata": {},
   "source": [
    "#K-Nearest Neighbours\n"
   ]
  },
  {
   "cell_type": "code",
   "execution_count": 6,
   "metadata": {},
   "outputs": [],
   "source": [
    "def dist(x1,x2):\n",
    "    return np.sqrt(((x2-x1)**2).sum())\n",
    "\n",
    "\n",
    "\n",
    "def knn(x_train,y_train,query_x,k=5):\n",
    "    dist_vals=[]\n",
    "    \n",
    "    m = x_train.shape[0]\n",
    "    \n",
    "    for ix in range(m):\n",
    "        d=dist(query_x,x_train[ix])\n",
    "        dist_vals.append((d,y_train[ix]))\n",
    "    \n",
    "    dist_vals = sorted(dist_vals)\n",
    "    dist_vals=dist_vals[:k]\n",
    "    \n",
    "    y=np.array(dist_vals)\n",
    "    t=np.unique(y[:,1],return_counts=True)\n",
    "    index = t[1].argmax()\n",
    "    prediction  = t[0][index]\n",
    "    return prediction\n",
    "    "
   ]
  },
  {
   "cell_type": "code",
   "execution_count": 7,
   "metadata": {},
   "outputs": [],
   "source": [
    "query_x = x_train[67]\n",
    "pred = knn(x_train,y_train,query_x)"
   ]
  },
  {
   "cell_type": "code",
   "execution_count": 8,
   "metadata": {},
   "outputs": [
    {
     "name": "stdout",
     "output_type": "stream",
     "text": [
      "8\n",
      "8\n"
     ]
    },
    {
     "data": {
      "image/png": "[encoded data removed]",
      "text/plain": [
       "<Figure size 432x288 with 1 Axes>"
      ]
     },
     "metadata": {
      "needs_background": "light"
     },
     "output_type": "display_data"
    }
   ],
   "source": [
    "#Algorithm prediction\n",
    "print(int(pred))\n",
    "#Display Image at the 67th Position\n",
    "draw(query_x)\n",
    "#Actual Answer Stored in Dataset at 67th Poistion\n",
    "print(y_train[67])"
   ]
  },
  {
   "cell_type": "markdown",
   "metadata": {},
   "source": [
    "\n",
    "#Testing Efficiency"
   ]
  },
  {
   "cell_type": "code",
   "execution_count": 9,
   "metadata": {},
   "outputs": [],
   "source": [
    "#Taking the 20% of Data for Testing"
   ]
  },
  {
   "cell_type": "code",
   "execution_count": 10,
   "metadata": {},
   "outputs": [
    {
     "name": "stdout",
     "output_type": "stream",
     "text": [
      "(8400, 784)\n",
      "(8400,)\n"
     ]
    }
   ],
   "source": [
    "x_test = x[split:,:]\n",
    "y_test = y[split:]\n",
    "print(x_test.shape)\n",
    "print(y_test.shape)"
   ]
  },
  {
   "cell_type": "code",
   "execution_count": 16,
   "metadata": {},
   "outputs": [
    {
     "name": "stdout",
     "output_type": "stream",
     "text": [
      "96\n"
     ]
    }
   ],
   "source": [
    "#Testing for First 100 sets in test[]\n",
    "\n",
    "cnt = 0\n",
    "n = 100\n",
    "\n",
    "for ix in range(n):\n",
    "    pred = knn(x_train,y_train,x_test[ix])\n",
    "    if(int(pred)==y_test[ix]):\n",
    "        cnt+=1\n",
    "print((cnt*100)/n)"
   ]
  },
  {
   "cell_type": "code",
   "execution_count": null,
   "metadata": {},
   "outputs": [],
   "source": []
  },
  {
   "cell_type": "code",
   "execution_count": null,
   "metadata": {},
   "outputs": [],
   "source": []
  }
 ],
 "metadata": {
  "kernelspec": {
   "display_name": "Python 2",
   "language": "python",
   "name": "python2"
  },
  "language_info": {
   "codemirror_mode": {
    "name": "ipython",
    "version": 2
   },
   "file_extension": ".py",
   "mimetype": "text/x-python",
   "name": "python",
   "nbconvert_exporter": "python",
   "pygments_lexer": "ipython2",
   "version": "2.7.12"
  }
 },
 "nbformat": 4,
 "nbformat_minor": 2
}
